{
 "cells": [
  {
   "cell_type": "markdown",
   "metadata": {
    "id": "QOFpnV2YP4-y",
    "pycharm": {
     "name": "#%% md\n"
    }
   },
   "source": [
    "# Updated 2022-07-24\n",
    "\n",
    "<a href=\"https://colab.research.google.com/github/Mandroide/Test_AIC21-MTMC/blob/main/Test_AIC21_MTMC.ipynb\" target=\"_parent\"><img src=\"https://colab.research.google.com/assets/colab-badge.svg\" alt=\"Open In Colab\"/></a>"
   ]
  },
  {
   "cell_type": "markdown",
   "metadata": {
    "id": "isyJ64jfcp9T",
    "pycharm": {
     "name": "#%% md\n"
    }
   },
   "source": [
    "---\n",
    "\n",
    "\n",
    "\n",
    "---\n",
    "#### IMPORTANT INFORMATION: This notebook is intended to work only with the test-data from [AI City Challenge 2021](https://www.aicitychallenge.org/). A different dataset won't work.\n",
    "---\n",
    "\n",
    "\n",
    "\n",
    "---"
   ]
  },
  {
   "cell_type": "markdown",
   "metadata": {
    "id": "vchyclhs9NET",
    "pycharm": {
     "name": "#%% md\n"
    }
   },
   "source": [
    "# General Setup"
   ]
  },
  {
   "cell_type": "markdown",
   "metadata": {
    "id": "EePldt5gyKUE",
    "pycharm": {
     "name": "#%% md\n"
    }
   },
   "source": [
    "Before you start working with this notebook, you need decide if you would like to test the code with the video on the GitHub repository or with a new Video.\n",
    "\n",
    "If you would like to run a new video (i.e., your own video) , you would need to clone the repository to your own Google Drive. Hence, first you would need to  \"mount\" your Google Drive in the runtime's Virtual Machine. This will allow you to read and save files from your own Google Drive \"AIC21-MTMC\" directory. \n",
    "\n",
    "To do this, you need to provide the path of your Google Drive for the folder of this assignment and click on the option of “Use_Google_Drive”. Once you provide this information, run this code cell below and follow the instructions. If you don’t click Use_Google_Drive, there is not need to submit a “Working_Directory”\n"
   ]
  },
  {
   "cell_type": "code",
   "execution_count": null,
   "outputs": [],
   "source": [
    "import time\n",
    "import os\n",
    "import pathlib\n",
    "\n",
    "#@markdown Choose if you want to mount your Google Drive\n",
    "Use_Google_Drive = False #@param {type:\"boolean\"}\n",
    "start_time = time.time()\n",
    "\n",
    "if Use_Google_Drive:\n",
    "  from google.colab import drive \n",
    "  \n",
    "\n",
    "  drive.mount(\"/content/gdrive\")\n",
    "\n",
    "  #@markdown Default drive directory\n",
    "\n",
    "  Working_Directory = \"My Drive/Colab Notebooks/Test_AIC21-MTMC\" #@param {type:\"string\"}\n",
    "  wd=pathlib.Path(\"/content/gdrive/\"+Working_Directory)\n",
    "  os.chdir(wd)\n",
    "\n",
    "if not os.path.isdir(\"AIC21-MTMC\"):\n",
    "  !git clone --depth 1 --no-tags --shallow-submodules -v\\\n",
    "   https://github.com/Mandroide/AIC21-MTMC.git\n",
    "\n",
    "ROOT_PATH = pathlib.Path.cwd()\n",
    "REPO_PATH = ROOT_PATH/\"AIC21-MTMC\"\n",
    "%pip install -r {REPO_PATH}/requirements.txt\n",
    "# Install missing package\n",
    "%pip install yacs\n",
    "\n",
    "# Install gdown\n",
    "%pip install gdown\n",
    "%pip install --upgrade gdown\n",
    "\n",
    "# ----\n",
    "import gdown\n",
    "\n",
    "\n",
    "# Download folders\n",
    "%rm -r {REPO_PATH}/\"datesets\" # Remove directory with typo\n",
    "url = \"https://drive.google.com/drive/folders/11616Gomc7MbjbgWrDruL26TGi9JNCAAE\"\n",
    "gdown.download_folder(url, quiet=True, use_cookies=False)\n",
    "\n",
    "\n",
    "DATASETS = REPO_PATH/\"datasets\"\n",
    "REID_MODEL = REPO_PATH/\"reid/reid_model\"\n",
    "YOLOV5 = REPO_PATH/\"detector/yolov5\"\n",
    "\n",
    "# Unzip detect_provided in datasets folder\n",
    "%mkdir {DATASETS}/\"detect_provided\"\n",
    "!unzip -q {DATASETS}/\"detect_provided.zip\" -d {DATASETS}/\"detect_provided\"\n",
    "%rm {DATASETS}/\"detect_provided.zip\"\n"
   ],
   "metadata": {
    "collapsed": false,
    "pycharm": {
     "name": "#%%\n"
    }
   }
  },
  {
   "cell_type": "code",
   "execution_count": null,
   "metadata": {
    "colab": {
     "base_uri": "https://localhost:8080/"
    },
    "id": "jBRh4HInj2dB",
    "outputId": "9f37e782-1eca-4e4a-9fbb-ee439f19fbde",
    "pycharm": {
     "name": "#%%\n"
    }
   },
   "outputs": [
    {
     "name": "stdout",
     "output_type": "stream",
     "text": [
      "CHALLENGE_DATA_DIR: '/content/AIC21-MTMC/datasets/AIC21_Track3_MTMC_Tracking/'\n",
      "DET_SOURCE_DIR: '/content/AIC21-MTMC/datasets/detection/images/test/S06/'\n",
      "DATA_DIR: '/content/AIC21-MTMC/datasets/detect_provided'\n",
      "REID_SIZE_TEST: [384, 384]\n",
      "ROI_DIR: '/content/AIC21-MTMC/datasets/AIC21_Track3_MTMC_Tracking/test/S06/'\n",
      "CID_BIAS_DIR: '/content/AIC21-MTMC/datasets/AIC21_Track3_MTMC_Tracking/cam_timestamp/'\n",
      "USE_RERANK: True\n",
      "USE_FF: True\n",
      "SCORE_THR: 0.1\n",
      "MCMT_OUTPUT_TXT: 'track3.txt\n",
      "/content/AIC21-MTMC\n",
      "[Err]: invalid source root\n",
      "Done\n",
      "tracking c041 with aic_mcmt.yml\n",
      "tracking c043 with aic_mcmt.yml\n",
      "tracking c046 with aic_mcmt.yml\n",
      "tracking c045 with aic_mcmt.yml\n",
      "tracking c044 with aic_mcmt.yml\n",
      "tracking c042 with aic_mcmt.yml\n",
      "Traceback (most recent call last):\n",
      "Traceback (most recent call last):\n",
      "Traceback (most recent call last):\n",
      "  File \"fair_app.py\", line 312, in <module>\n",
      "    args.max_cosine_distance, args.display, args.max_frame_idx, cfg)\n",
      "  File \"fair_app.py\", line 175, in run\n",
      "    seq_info = gather_sequence_info(sequence_dir, detection_file, max_frame_idx)\n",
      "  File \"fair_app.py\", line 312, in <module>\n",
      "    args.max_cosine_distance, args.display, args.max_frame_idx, cfg)\n",
      "  File \"fair_app.py\", line 49, in gather_sequence_info\n",
      "    for f in os.listdir(image_dir)}\n",
      "FileNotFoundError: [Errno 2] No such file or directory: '/home/xxx/AIC21-MTMC/datasets/detection/images/test/S06/c044/img1'\n",
      "Traceback (most recent call last):\n",
      "  File \"fair_app.py\", line 175, in run\n",
      "    seq_info = gather_sequence_info(sequence_dir, detection_file, max_frame_idx)\n",
      "  File \"fair_app.py\", line 49, in gather_sequence_info\n",
      "    for f in os.listdir(image_dir)}\n",
      "FileNotFoundError: [Errno 2] No such file or directory: '/home/xxx/AIC21-MTMC/datasets/detection/images/test/S06/c046/img1'\n",
      "Traceback (most recent call last):\n",
      "  File \"fair_app.py\", line 312, in <module>\n",
      "    args.max_cosine_distance, args.display, args.max_frame_idx, cfg)\n",
      "  File \"fair_app.py\", line 175, in run\n",
      "    seq_info = gather_sequence_info(sequence_dir, detection_file, max_frame_idx)\n",
      "  File \"fair_app.py\", line 49, in gather_sequence_info\n",
      "    for f in os.listdir(image_dir)}\n",
      "FileNotFoundError: [Errno 2] No such file or directory: '/home/xxx/AIC21-MTMC/datasets/detection/images/test/S06/c041/img1'\n",
      "  File \"fair_app.py\", line 312, in <module>\n",
      "    args.max_cosine_distance, args.display, args.max_frame_idx, cfg)\n",
      "  File \"fair_app.py\", line 175, in run\n",
      "    seq_info = gather_sequence_info(sequence_dir, detection_file, max_frame_idx)\n",
      "  File \"fair_app.py\", line 49, in gather_sequence_info\n",
      "    for f in os.listdir(image_dir)}\n",
      "FileNotFoundError: [Errno 2] No such file or directory: '/home/xxx/AIC21-MTMC/datasets/detection/images/test/S06/c045/img1'\n",
      "  File \"fair_app.py\", line 312, in <module>\n",
      "    args.max_cosine_distance, args.display, args.max_frame_idx, cfg)\n",
      "  File \"fair_app.py\", line 175, in run\n",
      "    seq_info = gather_sequence_info(sequence_dir, detection_file, max_frame_idx)\n",
      "  File \"fair_app.py\", line 49, in gather_sequence_info\n",
      "    for f in os.listdir(image_dir)}\n",
      "FileNotFoundError: [Errno 2] No such file or directory: '/home/xxx/AIC21-MTMC/datasets/detection/images/test/S06/c043/img1'\n",
      "Traceback (most recent call last):\n",
      "  File \"fair_app.py\", line 312, in <module>\n",
      "    args.max_cosine_distance, args.display, args.max_frame_idx, cfg)\n",
      "  File \"fair_app.py\", line 175, in run\n",
      "    seq_info = gather_sequence_info(sequence_dir, detection_file, max_frame_idx)\n",
      "  File \"fair_app.py\", line 49, in gather_sequence_info\n",
      "    for f in os.listdir(image_dir)}\n",
      "FileNotFoundError: [Errno 2] No such file or directory: '/home/xxx/AIC21-MTMC/datasets/detection/images/test/S06/c042/img1'\n",
      "sys args ars:  ['main.py', 'c045', 'pp', 'aic_mcmt.yml']\n",
      "using post processing\n",
      "loading tracked file /home/xxx/AIC21-MTMC/datasets/detect_provided/c045/c045_mot.txt\n",
      "Traceback (most recent call last):\n",
      "  File \"main.py\", line 110, in <module>\n",
      "    eval_seq(sys.argv[1], pp=sys.argv[2], mcmt_cfg=cfg)\n",
      "  File \"main.py\", line 41, in eval_seq\n",
      "    results = load_raw_mot(seq, mcmt_cfg)\n",
      "  File \"main.py\", line 17, in load_raw_mot\n",
      "    mot_feat_dic = pickle.load(open(f'{mcmt_cfg.DATA_DIR}/{seq}/{seq}_mot_feat_raw.pkl', 'rb'))\n",
      "FileNotFoundError: [Errno 2] No such file or directory: '/home/xxx/AIC21-MTMC/datasets/detect_provided/c045/c045_mot_feat_raw.pkl'\n",
      "sys args ars:  ['main.py', 'c046', 'pp', 'aic_mcmt.yml']\n",
      "using post processing\n",
      "loading tracked file /home/xxx/AIC21-MTMC/datasets/detect_provided/c046/c046_mot.txt\n",
      "Traceback (most recent call last):\n",
      "  File \"main.py\", line 110, in <module>\n",
      "    eval_seq(sys.argv[1], pp=sys.argv[2], mcmt_cfg=cfg)\n",
      "  File \"main.py\", line 41, in eval_seq\n",
      "    results = load_raw_mot(seq, mcmt_cfg)\n",
      "  File \"main.py\", line 17, in load_raw_mot\n",
      "    mot_feat_dic = pickle.load(open(f'{mcmt_cfg.DATA_DIR}/{seq}/{seq}_mot_feat_raw.pkl', 'rb'))\n",
      "FileNotFoundError: [Errno 2] No such file or directory: '/home/xxx/AIC21-MTMC/datasets/detect_provided/c046/c046_mot_feat_raw.pkl'\n",
      "sys args ars:  ['main.py', 'c041', 'pp', 'aic_mcmt.yml']\n",
      "using post processing\n",
      "loading tracked file /home/xxx/AIC21-MTMC/datasets/detect_provided/c041/c041_mot.txt\n",
      "Traceback (most recent call last):\n",
      "  File \"main.py\", line 110, in <module>\n",
      "    eval_seq(sys.argv[1], pp=sys.argv[2], mcmt_cfg=cfg)\n",
      "  File \"main.py\", line 41, in eval_seq\n",
      "    results = load_raw_mot(seq, mcmt_cfg)\n",
      "  File \"main.py\", line 17, in load_raw_mot\n",
      "    mot_feat_dic = pickle.load(open(f'{mcmt_cfg.DATA_DIR}/{seq}/{seq}_mot_feat_raw.pkl', 'rb'))\n",
      "FileNotFoundError: [Errno 2] No such file or directory: '/home/xxx/AIC21-MTMC/datasets/detect_provided/c041/c041_mot_feat_raw.pkl'\n",
      "sys args ars:  ['main.py', 'c043', 'pp', 'aic_mcmt.yml']\n",
      "using post processing\n",
      "loading tracked file /home/xxx/AIC21-MTMC/datasets/detect_provided/c043/c043_mot.txt\n",
      "Traceback (most recent call last):\n",
      "  File \"main.py\", line 110, in <module>\n",
      "    eval_seq(sys.argv[1], pp=sys.argv[2], mcmt_cfg=cfg)\n",
      "  File \"main.py\", line 41, in eval_seq\n",
      "    results = load_raw_mot(seq, mcmt_cfg)\n",
      "  File \"main.py\", line 17, in load_raw_mot\n",
      "    mot_feat_dic = pickle.load(open(f'{mcmt_cfg.DATA_DIR}/{seq}/{seq}_mot_feat_raw.pkl', 'rb'))\n",
      "FileNotFoundError: [Errno 2] No such file or directory: '/home/xxx/AIC21-MTMC/datasets/detect_provided/c043/c043_mot_feat_raw.pkl'\n",
      "sys args ars:  ['main.py', 'c044', 'pp', 'aic_mcmt.yml']\n",
      "using post processing\n",
      "loading tracked file /home/xxx/AIC21-MTMC/datasets/detect_provided/c044/c044_mot.txt\n",
      "Traceback (most recent call last):\n",
      "  File \"main.py\", line 110, in <module>\n",
      "    eval_seq(sys.argv[1], pp=sys.argv[2], mcmt_cfg=cfg)\n",
      "  File \"main.py\", line 41, in eval_seq\n",
      "    results = load_raw_mot(seq, mcmt_cfg)\n",
      "  File \"main.py\", line 17, in load_raw_mot\n",
      "    mot_feat_dic = pickle.load(open(f'{mcmt_cfg.DATA_DIR}/{seq}/{seq}_mot_feat_raw.pkl', 'rb'))\n",
      "FileNotFoundError: [Errno 2] No such file or directory: '/home/xxx/AIC21-MTMC/datasets/detect_provided/c044/c044_mot_feat_raw.pkl'\n",
      "sys args ars:  ['main.py', 'c042', 'pp', 'aic_mcmt.yml']\n",
      "using post processing\n",
      "loading tracked file /home/xxx/AIC21-MTMC/datasets/detect_provided/c042/c042_mot.txt\n",
      "Traceback (most recent call last):\n",
      "  File \"main.py\", line 110, in <module>\n",
      "    eval_seq(sys.argv[1], pp=sys.argv[2], mcmt_cfg=cfg)\n",
      "  File \"main.py\", line 41, in eval_seq\n",
      "    results = load_raw_mot(seq, mcmt_cfg)\n",
      "  File \"main.py\", line 17, in load_raw_mot\n",
      "    mot_feat_dic = pickle.load(open(f'{mcmt_cfg.DATA_DIR}/{seq}/{seq}_mot_feat_raw.pkl', 'rb'))\n",
      "FileNotFoundError: [Errno 2] No such file or directory: '/home/xxx/AIC21-MTMC/datasets/detect_provided/c042/c042_mot_feat_raw.pkl'\n",
      "Traceback (most recent call last):\n",
      "  File \"trajectory_fusion.py\", line 53, in <module>\n",
      "    cid_bias = parse_bias(cfg.CID_BIAS_DIR, scene_name)\n",
      "  File \"trajectory_fusion.py\", line 30, in parse_bias\n",
      "    with open(opj(timestamp_dir, sname + '.txt')) as f:\n",
      "FileNotFoundError: [Errno 2] No such file or directory: '/home/xxx/AIC21-MTMC/datasets/AIC21_Track3_MTMC_Tracking/cam_timestamp/S06.txt'\n",
      "Traceback (most recent call last):\n",
      "  File \"sub_cluster.py\", line 143, in <module>\n",
      "    for pkl_path in os.listdir(fea_dir):\n",
      "FileNotFoundError: [Errno 2] No such file or directory: './exp/viz/test/S06/trajectory/'\n",
      "Traceback (most recent call last):\n",
      "  File \"gen_res.py\", line 40, in <module>\n",
      "    map_tid = pickle.load(open('test_cluster.pkl', 'rb'))['cluster']\n",
      "FileNotFoundError: [Errno 2] No such file or directory: 'test_cluster.pkl'\n"
     ]
    }
   ],
   "source": [
    "# Adapt config/aic_mcmt.yml to the environment\n",
    "!sed -n \"1 c\\CHALLENGE_DATA_DIR: '{REPO_PATH}/datasets/AIC21_Track3_MTMC_Tracking/'\"\\\n",
    " {REPO_PATH}/\"config/aic_mcmt.yml\" {REPO_PATH}/\"config/aic_all.yml\"\n",
    "!sed -i \"s/DET_SOURCE_DIR: /DET_SOURCE_DIR: '{REPO_PATH}/datasets/detection/images/test/S06/'\" {REPO_PATH}/\"config/*.yml\"\n",
    "#!sed -n \"2 c\\DET_SOURCE_DIR: '{REPO_PATH}/datasets/detection/images/test/S06/'\" {REPO_PATH}/\"config/aic_mcmt.yml\"\n",
    "!sed -n \"3 c\\DATA_DIR: '{REPO_PATH}/datasets/detect_provided'\" {REPO_PATH}/\"config/aic_mcmt.yml\"\n",
    "!sed -n \"4 c\\REID_SIZE_TEST: [384, 384]\" {REPO_PATH}/\"config/aic_mcmt.yml\"\n",
    "!sed -n \"5 c\\ROI_DIR: '{REPO_PATH}/datasets/AIC21_Track3_MTMC_Tracking/test/S06/'\" {REPO_PATH}/\"config/aic_mcmt.yml\"\n",
    "!sed -n \"6 c\\CID_BIAS_DIR: '{REPO_PATH}/datasets/AIC21_Track3_MTMC_Tracking/cam_timestamp/'\" {REPO_PATH}/\"config/aic_mcmt.yml\"\n",
    "!sed -n \"7 c\\USE_RERANK: True\" {REPO_PATH}/\"config/aic_mcmt.yml\"\n",
    "!sed -n \"8 c\\USE_FF: True\" {REPO_PATH}/\"config/aic_mcmt.yml\"\n",
    "!sed -n \"9 c\\SCORE_THR: 0.1\" {REPO_PATH}/\"config/aic_mcmt.yml\"\n",
    "!sed -n \"10 c\\MCMT_OUTPUT_TXT: 'track3.txt\" {REPO_PATH}/\"config/aic_mcmt.yml\"\n",
    "!chmod u+x {REPO_PATH}/run_mcmt.sh\n",
    "%cd {REPO_PATH}\n",
    "!bash ./run_mcmt.sh"
   ]
  },
  {
   "cell_type": "markdown",
   "metadata": {
    "id": "SlzQbf2tiXwt",
    "pycharm": {
     "name": "#%% md\n"
    }
   },
   "source": [
    "# AI City 2021: Track 2 -- City-Scale Multi-Camera Vehicle Re-Identification\n"
   ]
  },
  {
   "cell_type": "markdown",
   "metadata": {
    "id": "OpECud8xikCF",
    "pycharm": {
     "name": "#%% md\n"
    }
   },
   "source": [
    "This uses the [AIC21-MTMC](https://github.com/Mandroide/AIC21-MTMC)\n",
    " \n",
    "TODO: Add Image\n",
    "\n",
    "The following image illustrate the process.\n"
   ]
  }
 ],
 "metadata": {
  "accelerator": "GPU",
  "colab": {
   "collapsed_sections": [],
   "name": "Test_AIC21-MTMC.ipynb",
   "provenance": []
  },
  "kernelspec": {
   "display_name": "Python 3",
   "name": "python3"
  },
  "language_info": {
   "name": "python"
  }
 },
 "nbformat": 4,
 "nbformat_minor": 0
}